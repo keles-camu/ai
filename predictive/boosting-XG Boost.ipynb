{
 "cells": [
  {
   "cell_type": "code",
   "execution_count": null,
   "id": "232453e4",
   "metadata": {},
   "outputs": [],
   "source": [
    "from numpy import mean, std\n",
    "import numpy as np\n",
    "import xgboost as xgb\n",
    "from sklearn.model_selection import train_test_split, GridSearchCV\n",
    "from sklearn.metrics import r2_score\n",
    "import matplotlib.pyplot as plt\n",
    "\n",
    "# Definición de un dataset con solo 1 feature (1 variable X)\n",
    "X = np.linspace(-5 , 5, 100).reshape(100, 1)\n",
    "y_limpia = np.sin(3 * X) - X\n",
    "y_ruido = np.random.normal(size=len(X)).reshape(y_limpia.shape)\n",
    "y = y_limpia + y_ruido\n",
    "plt.scatter(X, y, color = 'blue')   \n",
    "plt.xlabel('Variable X') \n",
    "plt.ylabel('Variable Y') \n",
    "plt.show()"
   ]
  },
  {
   "cell_type": "code",
   "execution_count": null,
   "id": "e6bd7b8e",
   "metadata": {},
   "outputs": [],
   "source": [
    "# División en dos datasets: train (con el que se optimizan los hiperparámetros) y test (con el que se prueba el rendimiento del modelo)\n",
    "X_train, X_test, y_train, y_test = train_test_split(X, y, random_state=5)\n",
    "\n",
    "# Obtención del mejor parámetro de profundidad del árbol entre 3 y 7 usando la validación cruzada y GridSearch\n",
    "regr = xgb.XGBRegressor()\n",
    "params = {\"eta\": [0.3, 0.5], \"lambda\":[0.5, 1.0], \"max_depth\": [3, 7]}\n",
    "regr_opt = GridSearchCV(regr, params, cv=3)\n",
    "regr_opt.fit(X_train, y_train)\n",
    "print('Los mejores hiperparámetros son: {}'.format(regr_opt.best_params_))\n",
    "y_train_pred = regr_opt.predict(X_train)\n",
    "y_test_pred = regr_opt.predict(X_test)\n",
    "print('La R^2 en los datos de train es: {}'.format(np.round(r2_score(y_train, y_train_pred),2)))\n",
    "print('La R^2 en los datos de test es: {}'.format(np.round(r2_score(y_test, y_test_pred),2)))\n",
    "X_fit = np.linspace(-5, 5, 1000).reshape(1000, 1)\n",
    "y_fit = regr_opt.predict(X_fit)\n",
    "plt.scatter(X_test, y_test, label=\"Datos reales de test\", alpha=0.4, s=10)\n",
    "plt.plot(X_fit, y_fit, c=\"red\", label=\"Predicciones\")\n",
    "plt.legend()\n",
    "plt.xlabel(\"Atributo X\")\n",
    "plt.ylabel(\"Target Y\")\n",
    "plt.show()"
   ]
  },
  {
   "cell_type": "code",
   "execution_count": null,
   "id": "b0c1efea",
   "metadata": {},
   "outputs": [],
   "source": []
  }
 ],
 "metadata": {
  "kernelspec": {
   "display_name": "Python 3 (ipykernel)",
   "language": "python",
   "name": "python3"
  },
  "language_info": {
   "codemirror_mode": {
    "name": "ipython",
    "version": 3
   },
   "file_extension": ".py",
   "mimetype": "text/x-python",
   "name": "python",
   "nbconvert_exporter": "python",
   "pygments_lexer": "ipython3",
   "version": "3.9.12"
  }
 },
 "nbformat": 4,
 "nbformat_minor": 5
}
